{
  "nbformat": 4,
  "nbformat_minor": 0,
  "metadata": {
    "colab": {
      "provenance": [],
      "collapsed_sections": [],
      "authorship_tag": "ABX9TyPbSB6gp/NqTvUAfsmDrvhU",
      "include_colab_link": true
    },
    "kernelspec": {
      "name": "python3",
      "display_name": "Python 3"
    },
    "language_info": {
      "name": "python"
    }
  },
  "cells": [
    {
      "cell_type": "markdown",
      "metadata": {
        "id": "view-in-github",
        "colab_type": "text"
      },
      "source": [
        "<a href=\"https://colab.research.google.com/github/dhawalepranav/FSDS-2.0/blob/main/Functions.ipynb\" target=\"_parent\"><img src=\"https://colab.research.google.com/assets/colab-badge.svg\" alt=\"Open In Colab\"/></a>"
      ]
    },
    {
      "cell_type": "markdown",
      "source": [
        "## 1. Write a function which will try to find out len of a string without using an inbuilt len function "
      ],
      "metadata": {
        "id": "SuzjiMgZiuEM"
      }
    },
    {
      "cell_type": "code",
      "source": [
        "def length(l):\n",
        "  count=0\n",
        "  for i in l:\n",
        "    count+=1\n",
        "  return count"
      ],
      "metadata": {
        "id": "_tflj791WUxF"
      },
      "execution_count": null,
      "outputs": []
    },
    {
      "cell_type": "code",
      "source": [
        "length(\"pranav\")"
      ],
      "metadata": {
        "colab": {
          "base_uri": "https://localhost:8080/"
        },
        "id": "n9HdEgyYa9V5",
        "outputId": "c9262712-151e-4c4f-ef25-1867519d7657"
      },
      "execution_count": null,
      "outputs": [
        {
          "output_type": "execute_result",
          "data": {
            "text/plain": [
              "6"
            ]
          },
          "metadata": {},
          "execution_count": 25
        }
      ]
    },
    {
      "cell_type": "markdown",
      "source": [
        "## 2. Write a function which  will be able to print an index of list element without using an index function"
      ],
      "metadata": {
        "id": "RZMl4M1yiwLy"
      }
    },
    {
      "cell_type": "code",
      "source": [
        "def iindex(l):\n",
        "  count=0\n",
        "  for i in l:\n",
        "   print(f\" Index of {i} is {count} \")\n",
        "   count+=1\n"
      ],
      "metadata": {
        "id": "1fW2ykx-bKRQ"
      },
      "execution_count": null,
      "outputs": []
    },
    {
      "cell_type": "code",
      "source": [
        "iindex(\"pranav\")"
      ],
      "metadata": {
        "colab": {
          "base_uri": "https://localhost:8080/"
        },
        "id": "ZnmR6r9Tbr56",
        "outputId": "c1af1d3b-9e8c-42da-f261-dce4f98bcca1"
      },
      "execution_count": null,
      "outputs": [
        {
          "output_type": "stream",
          "name": "stdout",
          "text": [
            " Index of i is 0 \n",
            " Index of i is 1 \n",
            " Index of i is 2 \n",
            " Index of i is 3 \n",
            " Index of i is 4 \n",
            " Index of i is 5 \n"
          ]
        }
      ]
    },
    {
      "cell_type": "markdown",
      "source": [
        "## 3. Write a function which will be able to print an ip address of your system"
      ],
      "metadata": {
        "id": "If_NsitRjHOv"
      }
    },
    {
      "cell_type": "code",
      "source": [
        "import socket\n",
        "\n",
        "def IP():\n",
        "  hostname= socket.gethostname()\n",
        "  Addr = socket.gethostbyname(hostname)\n",
        "  return Addr"
      ],
      "metadata": {
        "id": "nD9TweCJjLc0"
      },
      "execution_count": null,
      "outputs": []
    },
    {
      "cell_type": "code",
      "source": [
        "print(f\" Ip address of your system is {IP()} \")"
      ],
      "metadata": {
        "colab": {
          "base_uri": "https://localhost:8080/"
        },
        "id": "-oqhmB6Bnrzj",
        "outputId": "319f55a5-7f57-4fa8-c549-a69b6efaf738"
      },
      "execution_count": null,
      "outputs": [
        {
          "output_type": "stream",
          "name": "stdout",
          "text": [
            " Ip address of your system is 172.28.0.2 \n"
          ]
        }
      ]
    },
    {
      "cell_type": "markdown",
      "source": [
        "## 4. Write a function which will shutdown your system"
      ],
      "metadata": {
        "id": "RDqhv3YgpbEL"
      }
    },
    {
      "cell_type": "code",
      "source": [
        "import os\n",
        "def shutdown():\n",
        "  os.system(\"shutdown /s /t 1\")"
      ],
      "metadata": {
        "id": "n3gvfwkJpfS4"
      },
      "execution_count": null,
      "outputs": []
    },
    {
      "cell_type": "code",
      "source": [
        "shutdown()"
      ],
      "metadata": {
        "id": "-osk5NG0qddg"
      },
      "execution_count": null,
      "outputs": []
    },
    {
      "cell_type": "markdown",
      "source": [
        "## 5. Write a function which will take input as a list with any kind of numeric value and give an out as a multiplication of \n",
        "all the numeric data l = [3.5, 6.56, 4,5,\"sudh\" , \"ineuron\" , 'fsda bootcamp 2.0']"
      ],
      "metadata": {
        "id": "LdxKCwA4rp5W"
      }
    },
    {
      "cell_type": "code",
      "source": [
        "def multiply(l):\n",
        "  res=1\n",
        "  for i in l:\n",
        "    if isinstance(i,(int,float)):\n",
        "      res*=i\n",
        "  return res"
      ],
      "metadata": {
        "id": "hxtBB64sru0M"
      },
      "execution_count": null,
      "outputs": []
    },
    {
      "cell_type": "code",
      "source": [
        "l=[3.5, 6.56, 4,5,\"sudh\" , \"ineuron\" , 'fsda bootcamp 2.0']\n",
        "round(multiply(l),2)"
      ],
      "metadata": {
        "colab": {
          "base_uri": "https://localhost:8080/"
        },
        "id": "jN44DhGzsC_M",
        "outputId": "55feb1a8-6f2f-4f9e-bb52-904486198b2b"
      },
      "execution_count": null,
      "outputs": [
        {
          "output_type": "execute_result",
          "data": {
            "text/plain": [
              "459.2"
            ]
          },
          "metadata": {},
          "execution_count": 52
        }
      ]
    },
    {
      "cell_type": "markdown",
      "source": [
        "## 8.Write a function which will be able to read a doc/word file from your system"
      ],
      "metadata": {
        "id": "rm_65mzxxbEb"
      }
    },
    {
      "cell_type": "code",
      "source": [
        "#pip install python-docx\n",
        "from docx import Document\n",
        "def doc_read(filename):\n",
        "  file=Document(filename)\n",
        "  for i in file.paragraphs:\n",
        "    print(i.text)"
      ],
      "metadata": {
        "id": "wGmMJnkS3BXa"
      },
      "execution_count": null,
      "outputs": []
    },
    {
      "cell_type": "code",
      "source": [
        "doc_read(\"/content/Pranav Dhawale Resume.docx\")"
      ],
      "metadata": {
        "colab": {
          "base_uri": "https://localhost:8080/"
        },
        "id": "Vnmgn4K_56xi",
        "outputId": "d972df01-0ea2-44fc-b7a2-659ab229ce22"
      },
      "execution_count": null,
      "outputs": [
        {
          "output_type": "stream",
          "name": "stdout",
          "text": [
            "\n",
            "PRANAV DHAWALE \n",
            "dhawalepranav.c@gmail.com | 8669106567 | Chinchwad, Pune, Maharashtra\n",
            "\n",
            "Skills\n",
            "\n",
            "Programming Languages:\tPython, SQL, C, Unix.\n",
            "Data Science libraries : Pandas, NumPy, Scikit-learn, Seaborn, Matplotlib. \n",
            "Visualization and Analytics: Tableau, Spreadsheets.  \n",
            "Soft Skills:    Communication, Analytical thinking, Problem Solving, Presentation\n",
            "\n",
            "\n",
            "Certifications\n",
            "\n",
            "TCS Data Science Certification\t\t\t\t\t\tAugust 2021 – Oct 2021 \n",
            "• Completed 5 Hands-On Sprints and a Capstone Project by using libraries like Pandas, Seaborn, Matplotlib, Scikit-learn.\n",
            "•  Implemented the Regression and Classification ML models with Scikit-learn and learned the basics of NLP  and Time series analysis. \n",
            "\n",
            "Google Data Analytics Certification\t\t\t\t\tMay 2022 \n",
            "•  Revised the Data Analysis Project framework and fundamentals of Visualizations.. \n",
            "•  Learned the fundamentals of R language. \n",
            "•  Completed the Capstone project with the help of tools like Excel, Tableau and Big Query. \n",
            "\n",
            "Data Visualization with Tableau : Coursera \t\t\t\tIn-Progress\t\n",
            "• Learning the Design principles, Visual analytics, Tableau and its multiple available features for Visualization.\n",
            " \n",
            "Professional Experience\n",
            "\n",
            "Tata Consultancy Services Limited\t\t\t\t\tAug 2020 – Present \n",
            "Systems Engineer– Virtual Desktop Infrastructure ( VDI ) Team.\n",
            "\n",
            "\n",
            "• Created Weekly and Monthly reports with Excel and Tableau for the analysis of commonly faced issues by users and the resolution time taken by support teams. \n",
            "• Built Dashboards in EG-Innovations for the live monitoring of the storage space usage in Citrix infrastructure. \n",
            "•  Analyzed the newly added features and concluded their impact on the Citrix Desktop performance.\n",
            "•  Handled the monthly patching activity on servers with an updated ISO Images. \n",
            "•  Successfully communicated with multiple number of users to troubleshoot their issues from backend with help of tools like Azure Virtual Desktop, Citrix Director, Citrix Studio and Active Directory. \n",
            "•  Handled the CPU and Memory utilization critical alerts with the help of Azure portal.\n",
            "\n",
            "\n",
            "Education\n",
            "\n",
            "JSPM’s Rajarshi Shahu College of Engineering, Pune\n",
            "Bachelor of Engineering in Electronics and Telecommunication \tAug 2017 - May 2020 \n",
            "• Courses: Object Oriented Programming, Artificial Intelligence, Internet of Things ( IOT ) .\n",
            "• CGPA: 8.73/10 \n",
            " \n",
            "Government Polytechnic Pune, Pune \n",
            "Diploma in Electronics and Telecommunication\t\t\t\tAug 2014 - May 2017 \n",
            "• Courses: Programming in C, 8051 Microcontroller, PLC. \n",
            "• CGPA: 8.8/10 \n",
            "\n",
            "\n",
            "\n"
          ]
        }
      ]
    }
  ]
}